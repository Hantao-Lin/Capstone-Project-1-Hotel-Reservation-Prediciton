{
 "cells": [
  {
   "cell_type": "code",
   "execution_count": 1,
   "metadata": {},
   "outputs": [],
   "source": [
    "import numpy as np\n",
    "import pandas as pd\n",
    "import matplotlib.pyplot as plt\n",
    "from scipy.stats import norm\n",
    "import seaborn as sns\n",
    "from scipy.stats import ttest_ind\n",
    "from scipy import stats"
   ]
  },
  {
   "cell_type": "code",
   "execution_count": 2,
   "metadata": {},
   "outputs": [
    {
     "name": "stdout",
     "output_type": "stream",
     "text": [
      "<class 'pandas.core.frame.DataFrame'>\n",
      "RangeIndex: 119390 entries, 0 to 119389\n",
      "Data columns (total 41 columns):\n",
      "Unnamed: 0                        119390 non-null int64\n",
      "hotel                             119390 non-null object\n",
      "is_canceled                       119390 non-null int64\n",
      "lead_time                         119390 non-null int64\n",
      "arrival_date_year                 119390 non-null int64\n",
      "arrival_date_month                119390 non-null object\n",
      "arrival_date_week_number          119390 non-null int64\n",
      "arrival_date_day_of_month         119390 non-null int64\n",
      "stays_in_weekend_nights           119390 non-null int64\n",
      "stays_in_week_nights              119390 non-null int64\n",
      "adults                            119390 non-null int64\n",
      "children                          119390 non-null float64\n",
      "babies                            119390 non-null int64\n",
      "meal                              119390 non-null object\n",
      "country                           119390 non-null object\n",
      "market_segment                    119390 non-null object\n",
      "distribution_channel              119390 non-null object\n",
      "is_repeated_guest                 119390 non-null int64\n",
      "previous_cancellations            119390 non-null int64\n",
      "previous_bookings_not_canceled    119390 non-null int64\n",
      "reserved_room_type                119390 non-null object\n",
      "assigned_room_type                119390 non-null object\n",
      "booking_changes                   119390 non-null int64\n",
      "deposit_type                      119390 non-null object\n",
      "agent                             119390 non-null float64\n",
      "days_in_waiting_list              119390 non-null int64\n",
      "customer_type                     119390 non-null object\n",
      "adr                               119390 non-null float64\n",
      "required_car_parking_spaces       119390 non-null int64\n",
      "total_of_special_requests         119390 non-null int64\n",
      "reservation_status                119390 non-null object\n",
      "reservation_status_date           119390 non-null object\n",
      "Date_time                         119390 non-null datetime64[ns]\n",
      "Maximum_Temperature               119390 non-null float64\n",
      "Minimum _Temperature              119390 non-null float64\n",
      "Average_Temperature               119390 non-null float64\n",
      "Heat_Index                        119390 non-null float64\n",
      "Precipitation(inches)             119390 non-null float64\n",
      "Wind_Speed                        119390 non-null float64\n",
      "Relative_Humidity                 119390 non-null float64\n",
      "Conditions                        119390 non-null object\n",
      "dtypes: datetime64[ns](1), float64(10), int64(17), object(13)\n",
      "memory usage: 37.3+ MB\n"
     ]
    }
   ],
   "source": [
    "data=pd.read_csv('data.csv')\n",
    "data['Date_time']=pd.to_datetime(data['Date_time'])\n",
    "data.info()"
   ]
  },
  {
   "cell_type": "markdown",
   "metadata": {},
   "source": [
    "<li> Q1: Is domestic cancellation equal to international cancellation rate? </li>\n",
    "<li> Null Hypotheis= mean of cancellation rate from Portugal = mean of cancellation rate from international countries </li>\n",
    "<li> Alternative Hypothesis= mean of cancellation rate from Portugal != mean of cancellation rate from international countries</li>\n",
    "<li> alpha=0.05</li>"
   ]
  },
  {
   "cell_type": "code",
   "execution_count": 3,
   "metadata": {},
   "outputs": [],
   "source": [
    "domestic=data[data['country']=='PRT']\n",
    "international=data[data['country']!='PRT']"
   ]
  },
  {
   "cell_type": "code",
   "execution_count": 4,
   "metadata": {},
   "outputs": [],
   "source": [
    "a=domestic.groupby(data['Date_time'])"
   ]
  },
  {
   "cell_type": "code",
   "execution_count": 5,
   "metadata": {},
   "outputs": [],
   "source": [
    "dom_count=a['is_canceled'].value_counts().unstack()\n",
    "dom_count['sum']=dom_count[0]+dom_count[1]\n",
    "dom_count['rate']=dom_count[1]/dom_count['sum']"
   ]
  },
  {
   "cell_type": "code",
   "execution_count": 6,
   "metadata": {},
   "outputs": [],
   "source": [
    "b=international.groupby(data['Date_time'])"
   ]
  },
  {
   "cell_type": "code",
   "execution_count": 7,
   "metadata": {},
   "outputs": [],
   "source": [
    "int_count=a['is_canceled'].value_counts().unstack()\n",
    "int_count['sum']=dom_count[0]+dom_count[1]\n",
    "int_count['rate']=dom_count[1]/dom_count['sum']"
   ]
  },
  {
   "cell_type": "code",
   "execution_count": 8,
   "metadata": {
    "scrolled": true
   },
   "outputs": [
    {
     "name": "stdout",
     "output_type": "stream",
     "text": [
      "Domestic vs International Cancelation Rate 95% Confidence Interval:[-0.02150634  0.02192998]\n"
     ]
    }
   ],
   "source": [
    "list=[]\n",
    "avg_mean1=[]\n",
    "avg_mean2=[]\n",
    "for i in range(10000):\n",
    "    sample1=np.random.choice(dom_count['rate'],len(dom_count['rate']))\n",
    "    sample2=np.random.choice(int_count['rate'],len(int_count['rate']))\n",
    "    mean1=np.nanmean(sample1)\n",
    "    avg_mean1.append(mean1)\n",
    "    mean2=np.nanmean(sample2)\n",
    "    avg_mean2.append(mean2)\n",
    "    diff=mean1-mean2\n",
    "    list.append(diff)\n",
    "percentile=np.percentile(list,[2.5,97.5])\n",
    "print('Domestic vs International Cancelation Rate 95% Confidence Interval:'+str(percentile))"
   ]
  },
  {
   "cell_type": "code",
   "execution_count": 9,
   "metadata": {},
   "outputs": [
    {
     "data": {
      "text/plain": [
       "<matplotlib.legend.Legend at 0x15c05d65808>"
      ]
     },
     "execution_count": 9,
     "metadata": {},
     "output_type": "execute_result"
    },
    {
     "data": {
      "image/png": "[encoded data removed]",
      "text/plain": [
       "<Figure size 432x288 with 1 Axes>"
      ]
     },
     "metadata": {
      "needs_background": "light"
     },
     "output_type": "display_data"
    }
   ],
   "source": [
    "plt.hist(avg_mean1,alpha=0.5,label='domestic')\n",
    "plt.hist(avg_mean2,alpha=0.5,label='international')\n",
    "plt.legend(loc='upper right')"
   ]
  },
  {
   "cell_type": "code",
   "execution_count": 10,
   "metadata": {},
   "outputs": [
    {
     "data": {
      "text/html": [
       "<div>\n",
       "<style scoped>\n",
       "    .dataframe tbody tr th:only-of-type {\n",
       "        vertical-align: middle;\n",
       "    }\n",
       "\n",
       "    .dataframe tbody tr th {\n",
       "        vertical-align: top;\n",
       "    }\n",
       "\n",
       "    .dataframe thead th {\n",
       "        text-align: right;\n",
       "    }\n",
       "</style>\n",
       "<table border=\"1\" class=\"dataframe\">\n",
       "  <thead>\n",
       "    <tr style=\"text-align: right;\">\n",
       "      <th>is_canceled</th>\n",
       "      <th>0</th>\n",
       "      <th>1</th>\n",
       "      <th>sum</th>\n",
       "      <th>rate</th>\n",
       "    </tr>\n",
       "    <tr>\n",
       "      <th>Date_time</th>\n",
       "      <th></th>\n",
       "      <th></th>\n",
       "      <th></th>\n",
       "      <th></th>\n",
       "    </tr>\n",
       "  </thead>\n",
       "  <tbody>\n",
       "    <tr>\n",
       "      <td>2015-07-01</td>\n",
       "      <td>84.0</td>\n",
       "      <td>19.0</td>\n",
       "      <td>103.0</td>\n",
       "      <td>0.184466</td>\n",
       "    </tr>\n",
       "    <tr>\n",
       "      <td>2015-07-02</td>\n",
       "      <td>8.0</td>\n",
       "      <td>57.0</td>\n",
       "      <td>65.0</td>\n",
       "      <td>0.876923</td>\n",
       "    </tr>\n",
       "    <tr>\n",
       "      <td>2015-07-03</td>\n",
       "      <td>18.0</td>\n",
       "      <td>19.0</td>\n",
       "      <td>37.0</td>\n",
       "      <td>0.513514</td>\n",
       "    </tr>\n",
       "    <tr>\n",
       "      <td>2015-07-04</td>\n",
       "      <td>32.0</td>\n",
       "      <td>43.0</td>\n",
       "      <td>75.0</td>\n",
       "      <td>0.573333</td>\n",
       "    </tr>\n",
       "    <tr>\n",
       "      <td>2015-07-05</td>\n",
       "      <td>14.0</td>\n",
       "      <td>16.0</td>\n",
       "      <td>30.0</td>\n",
       "      <td>0.533333</td>\n",
       "    </tr>\n",
       "    <tr>\n",
       "      <td>...</td>\n",
       "      <td>...</td>\n",
       "      <td>...</td>\n",
       "      <td>...</td>\n",
       "      <td>...</td>\n",
       "    </tr>\n",
       "    <tr>\n",
       "      <td>2017-08-27</td>\n",
       "      <td>31.0</td>\n",
       "      <td>20.0</td>\n",
       "      <td>51.0</td>\n",
       "      <td>0.392157</td>\n",
       "    </tr>\n",
       "    <tr>\n",
       "      <td>2017-08-28</td>\n",
       "      <td>89.0</td>\n",
       "      <td>25.0</td>\n",
       "      <td>114.0</td>\n",
       "      <td>0.219298</td>\n",
       "    </tr>\n",
       "    <tr>\n",
       "      <td>2017-08-29</td>\n",
       "      <td>21.0</td>\n",
       "      <td>18.0</td>\n",
       "      <td>39.0</td>\n",
       "      <td>0.461538</td>\n",
       "    </tr>\n",
       "    <tr>\n",
       "      <td>2017-08-30</td>\n",
       "      <td>14.0</td>\n",
       "      <td>5.0</td>\n",
       "      <td>19.0</td>\n",
       "      <td>0.263158</td>\n",
       "    </tr>\n",
       "    <tr>\n",
       "      <td>2017-08-31</td>\n",
       "      <td>15.0</td>\n",
       "      <td>10.0</td>\n",
       "      <td>25.0</td>\n",
       "      <td>0.400000</td>\n",
       "    </tr>\n",
       "  </tbody>\n",
       "</table>\n",
       "<p>793 rows × 4 columns</p>\n",
       "</div>"
      ],
      "text/plain": [
       "is_canceled     0     1    sum      rate\n",
       "Date_time                               \n",
       "2015-07-01   84.0  19.0  103.0  0.184466\n",
       "2015-07-02    8.0  57.0   65.0  0.876923\n",
       "2015-07-03   18.0  19.0   37.0  0.513514\n",
       "2015-07-04   32.0  43.0   75.0  0.573333\n",
       "2015-07-05   14.0  16.0   30.0  0.533333\n",
       "...           ...   ...    ...       ...\n",
       "2017-08-27   31.0  20.0   51.0  0.392157\n",
       "2017-08-28   89.0  25.0  114.0  0.219298\n",
       "2017-08-29   21.0  18.0   39.0  0.461538\n",
       "2017-08-30   14.0   5.0   19.0  0.263158\n",
       "2017-08-31   15.0  10.0   25.0  0.400000\n",
       "\n",
       "[793 rows x 4 columns]"
      ]
     },
     "execution_count": 10,
     "metadata": {},
     "output_type": "execute_result"
    }
   ],
   "source": [
    "dom_count"
   ]
  },
  {
   "cell_type": "code",
   "execution_count": 11,
   "metadata": {},
   "outputs": [
    {
     "data": {
      "text/plain": [
       "(array([   4.,   39.,  320., 1195., 2445., 2992., 1996.,  794.,  186.,\n",
       "          29.]),\n",
       " array([-0.044957  , -0.0365039 , -0.0280508 , -0.0195977 , -0.0111446 ,\n",
       "        -0.0026915 ,  0.00576159,  0.01421469,  0.02266779,  0.03112089,\n",
       "         0.03957399]),\n",
       " <a list of 10 Patch objects>)"
      ]
     },
     "execution_count": 11,
     "metadata": {},
     "output_type": "execute_result"
    },
    {
     "data": {
      "image/png": "[encoded data removed]",
      "text/plain": [
       "<Figure size 432x288 with 1 Axes>"
      ]
     },
     "metadata": {
      "needs_background": "light"
     },
     "output_type": "display_data"
    }
   ],
   "source": [
    "plt.hist(list)"
   ]
  },
  {
   "cell_type": "code",
   "execution_count": 12,
   "metadata": {},
   "outputs": [
    {
     "data": {
      "text/plain": [
       "0.4996"
      ]
     },
     "execution_count": 12,
     "metadata": {},
     "output_type": "execute_result"
    }
   ],
   "source": [
    "observed_t=np.mean(dom_count['rate'])-np.mean(int_count['rate'])\n",
    "list2=[]\n",
    "for i in list:\n",
    "    if (i>=observed_t)==True:\n",
    "        list2.append(1)\n",
    "p=np.sum(list2)/len(list)\n",
    "p"
   ]
  },
  {
   "cell_type": "code",
   "execution_count": 13,
   "metadata": {},
   "outputs": [
    {
     "data": {
      "text/plain": [
       "Ttest_indResult(statistic=0.0, pvalue=1.0)"
      ]
     },
     "execution_count": 13,
     "metadata": {},
     "output_type": "execute_result"
    }
   ],
   "source": [
    "ttest_ind(int_count['rate'].dropna(),dom_count['rate'].dropna())"
   ]
  },
  {
   "cell_type": "markdown",
   "metadata": {},
   "source": [
    "The confidence interval is (-0.02134154,  0.02174621) which includes 0. It's inconclusive whether to accept or reject null hypothesis. "
   ]
  },
  {
   "cell_type": "markdown",
   "metadata": {},
   "source": [
    "<li> Q2: Is the correlation of cancelation rate vs temperature positive or negative? </li>\n",
    "<li> Null Hypothesis: Person's correlation coefficient = 0 </li>\n",
    "<li> Alternative Hypothesis: Person's correlation coefficient != 0 </li>\n",
    "<li>critical value=0.05</li>"
   ]
  },
  {
   "cell_type": "code",
   "execution_count": 14,
   "metadata": {},
   "outputs": [
    {
     "data": {
      "text/plain": [
       "Date_time   is_canceled\n",
       "2015-07-01  0              103\n",
       "            1               19\n",
       "2015-07-02  1               57\n",
       "            0               36\n",
       "2015-07-03  0               37\n",
       "                          ... \n",
       "2017-08-29  1               44\n",
       "2017-08-30  0               62\n",
       "            1               27\n",
       "2017-08-31  0               89\n",
       "            1               45\n",
       "Name: is_canceled, Length: 1586, dtype: int64"
      ]
     },
     "execution_count": 14,
     "metadata": {},
     "output_type": "execute_result"
    }
   ],
   "source": [
    "c=data.groupby(data['Date_time'])\n",
    "counts=c['is_canceled'].value_counts()\n",
    "counts"
   ]
  },
  {
   "cell_type": "code",
   "execution_count": 15,
   "metadata": {},
   "outputs": [
    {
     "data": {
      "text/html": [
       "<div>\n",
       "<style scoped>\n",
       "    .dataframe tbody tr th:only-of-type {\n",
       "        vertical-align: middle;\n",
       "    }\n",
       "\n",
       "    .dataframe tbody tr th {\n",
       "        vertical-align: top;\n",
       "    }\n",
       "\n",
       "    .dataframe thead th {\n",
       "        text-align: right;\n",
       "    }\n",
       "</style>\n",
       "<table border=\"1\" class=\"dataframe\">\n",
       "  <thead>\n",
       "    <tr style=\"text-align: right;\">\n",
       "      <th>is_canceled</th>\n",
       "      <th>0</th>\n",
       "      <th>1</th>\n",
       "    </tr>\n",
       "    <tr>\n",
       "      <th>Date_time</th>\n",
       "      <th></th>\n",
       "      <th></th>\n",
       "    </tr>\n",
       "  </thead>\n",
       "  <tbody>\n",
       "    <tr>\n",
       "      <td>2015-07-01</td>\n",
       "      <td>103</td>\n",
       "      <td>19</td>\n",
       "    </tr>\n",
       "    <tr>\n",
       "      <td>2015-07-02</td>\n",
       "      <td>36</td>\n",
       "      <td>57</td>\n",
       "    </tr>\n",
       "    <tr>\n",
       "      <td>2015-07-03</td>\n",
       "      <td>37</td>\n",
       "      <td>19</td>\n",
       "    </tr>\n",
       "    <tr>\n",
       "      <td>2015-07-04</td>\n",
       "      <td>45</td>\n",
       "      <td>43</td>\n",
       "    </tr>\n",
       "    <tr>\n",
       "      <td>2015-07-05</td>\n",
       "      <td>37</td>\n",
       "      <td>16</td>\n",
       "    </tr>\n",
       "    <tr>\n",
       "      <td>...</td>\n",
       "      <td>...</td>\n",
       "      <td>...</td>\n",
       "    </tr>\n",
       "    <tr>\n",
       "      <td>2017-08-27</td>\n",
       "      <td>125</td>\n",
       "      <td>49</td>\n",
       "    </tr>\n",
       "    <tr>\n",
       "      <td>2017-08-28</td>\n",
       "      <td>147</td>\n",
       "      <td>64</td>\n",
       "    </tr>\n",
       "    <tr>\n",
       "      <td>2017-08-29</td>\n",
       "      <td>81</td>\n",
       "      <td>44</td>\n",
       "    </tr>\n",
       "    <tr>\n",
       "      <td>2017-08-30</td>\n",
       "      <td>62</td>\n",
       "      <td>27</td>\n",
       "    </tr>\n",
       "    <tr>\n",
       "      <td>2017-08-31</td>\n",
       "      <td>89</td>\n",
       "      <td>45</td>\n",
       "    </tr>\n",
       "  </tbody>\n",
       "</table>\n",
       "<p>793 rows × 2 columns</p>\n",
       "</div>"
      ],
      "text/plain": [
       "is_canceled    0   1\n",
       "Date_time           \n",
       "2015-07-01   103  19\n",
       "2015-07-02    36  57\n",
       "2015-07-03    37  19\n",
       "2015-07-04    45  43\n",
       "2015-07-05    37  16\n",
       "...          ...  ..\n",
       "2017-08-27   125  49\n",
       "2017-08-28   147  64\n",
       "2017-08-29    81  44\n",
       "2017-08-30    62  27\n",
       "2017-08-31    89  45\n",
       "\n",
       "[793 rows x 2 columns]"
      ]
     },
     "execution_count": 15,
     "metadata": {},
     "output_type": "execute_result"
    }
   ],
   "source": [
    "unstack=counts.unstack()\n",
    "unstack"
   ]
  },
  {
   "cell_type": "code",
   "execution_count": 16,
   "metadata": {},
   "outputs": [],
   "source": [
    "list=[]\n",
    "for i in range(793):\n",
    "    sum=unstack[0][i]+unstack[1][i]\n",
    "    percent=(unstack[1][i]/sum)*100\n",
    "    list.append(percent)"
   ]
  },
  {
   "cell_type": "code",
   "execution_count": 17,
   "metadata": {},
   "outputs": [
    {
     "data": {
      "text/html": [
       "<div>\n",
       "<style scoped>\n",
       "    .dataframe tbody tr th:only-of-type {\n",
       "        vertical-align: middle;\n",
       "    }\n",
       "\n",
       "    .dataframe tbody tr th {\n",
       "        vertical-align: top;\n",
       "    }\n",
       "\n",
       "    .dataframe thead th {\n",
       "        text-align: right;\n",
       "    }\n",
       "</style>\n",
       "<table border=\"1\" class=\"dataframe\">\n",
       "  <thead>\n",
       "    <tr style=\"text-align: right;\">\n",
       "      <th></th>\n",
       "      <th>0</th>\n",
       "      <th>percent</th>\n",
       "    </tr>\n",
       "  </thead>\n",
       "  <tbody>\n",
       "    <tr>\n",
       "      <td>0</td>\n",
       "      <td>2015-07-01</td>\n",
       "      <td>15.573770</td>\n",
       "    </tr>\n",
       "    <tr>\n",
       "      <td>1</td>\n",
       "      <td>2015-07-02</td>\n",
       "      <td>61.290323</td>\n",
       "    </tr>\n",
       "    <tr>\n",
       "      <td>2</td>\n",
       "      <td>2015-07-03</td>\n",
       "      <td>33.928571</td>\n",
       "    </tr>\n",
       "    <tr>\n",
       "      <td>3</td>\n",
       "      <td>2015-07-04</td>\n",
       "      <td>48.863636</td>\n",
       "    </tr>\n",
       "    <tr>\n",
       "      <td>4</td>\n",
       "      <td>2015-07-05</td>\n",
       "      <td>30.188679</td>\n",
       "    </tr>\n",
       "    <tr>\n",
       "      <td>...</td>\n",
       "      <td>...</td>\n",
       "      <td>...</td>\n",
       "    </tr>\n",
       "    <tr>\n",
       "      <td>788</td>\n",
       "      <td>2017-08-27</td>\n",
       "      <td>28.160920</td>\n",
       "    </tr>\n",
       "    <tr>\n",
       "      <td>789</td>\n",
       "      <td>2017-08-28</td>\n",
       "      <td>30.331754</td>\n",
       "    </tr>\n",
       "    <tr>\n",
       "      <td>790</td>\n",
       "      <td>2017-08-29</td>\n",
       "      <td>35.200000</td>\n",
       "    </tr>\n",
       "    <tr>\n",
       "      <td>791</td>\n",
       "      <td>2017-08-30</td>\n",
       "      <td>30.337079</td>\n",
       "    </tr>\n",
       "    <tr>\n",
       "      <td>792</td>\n",
       "      <td>2017-08-31</td>\n",
       "      <td>33.582090</td>\n",
       "    </tr>\n",
       "  </tbody>\n",
       "</table>\n",
       "<p>793 rows × 2 columns</p>\n",
       "</div>"
      ],
      "text/plain": [
       "             0    percent\n",
       "0   2015-07-01  15.573770\n",
       "1   2015-07-02  61.290323\n",
       "2   2015-07-03  33.928571\n",
       "3   2015-07-04  48.863636\n",
       "4   2015-07-05  30.188679\n",
       "..         ...        ...\n",
       "788 2017-08-27  28.160920\n",
       "789 2017-08-28  30.331754\n",
       "790 2017-08-29  35.200000\n",
       "791 2017-08-30  30.337079\n",
       "792 2017-08-31  33.582090\n",
       "\n",
       "[793 rows x 2 columns]"
      ]
     },
     "execution_count": 17,
     "metadata": {},
     "output_type": "execute_result"
    }
   ],
   "source": [
    "d=pd.DataFrame(a['Date_time'])\n",
    "d['percent']=list\n",
    "d.pop(1)\n",
    "d"
   ]
  },
  {
   "cell_type": "code",
   "execution_count": 18,
   "metadata": {},
   "outputs": [
    {
     "data": {
      "text/html": [
       "<div>\n",
       "<style scoped>\n",
       "    .dataframe tbody tr th:only-of-type {\n",
       "        vertical-align: middle;\n",
       "    }\n",
       "\n",
       "    .dataframe tbody tr th {\n",
       "        vertical-align: top;\n",
       "    }\n",
       "\n",
       "    .dataframe thead th {\n",
       "        text-align: right;\n",
       "    }\n",
       "</style>\n",
       "<table border=\"1\" class=\"dataframe\">\n",
       "  <thead>\n",
       "    <tr style=\"text-align: right;\">\n",
       "      <th></th>\n",
       "      <th>Unnamed: 0</th>\n",
       "      <th>hotel</th>\n",
       "      <th>is_canceled</th>\n",
       "      <th>lead_time</th>\n",
       "      <th>arrival_date_year</th>\n",
       "      <th>arrival_date_month</th>\n",
       "      <th>arrival_date_week_number</th>\n",
       "      <th>arrival_date_day_of_month</th>\n",
       "      <th>stays_in_weekend_nights</th>\n",
       "      <th>stays_in_week_nights</th>\n",
       "      <th>...</th>\n",
       "      <th>reservation_status_date</th>\n",
       "      <th>Date_time</th>\n",
       "      <th>Maximum_Temperature</th>\n",
       "      <th>Minimum _Temperature</th>\n",
       "      <th>Average_Temperature</th>\n",
       "      <th>Heat_Index</th>\n",
       "      <th>Precipitation(inches)</th>\n",
       "      <th>Wind_Speed</th>\n",
       "      <th>Relative_Humidity</th>\n",
       "      <th>Conditions</th>\n",
       "    </tr>\n",
       "  </thead>\n",
       "  <tbody>\n",
       "    <tr>\n",
       "      <td>0</td>\n",
       "      <td>0</td>\n",
       "      <td>Resort Hotel</td>\n",
       "      <td>0</td>\n",
       "      <td>342</td>\n",
       "      <td>2015</td>\n",
       "      <td>July</td>\n",
       "      <td>27</td>\n",
       "      <td>1</td>\n",
       "      <td>0</td>\n",
       "      <td>0</td>\n",
       "      <td>...</td>\n",
       "      <td>2015-07-01</td>\n",
       "      <td>2015-07-01</td>\n",
       "      <td>74.4</td>\n",
       "      <td>63.3</td>\n",
       "      <td>67.6</td>\n",
       "      <td>68.379723</td>\n",
       "      <td>0.1</td>\n",
       "      <td>14.4</td>\n",
       "      <td>83.56</td>\n",
       "      <td>Rain, Clear</td>\n",
       "    </tr>\n",
       "    <tr>\n",
       "      <td>1</td>\n",
       "      <td>1</td>\n",
       "      <td>Resort Hotel</td>\n",
       "      <td>0</td>\n",
       "      <td>737</td>\n",
       "      <td>2015</td>\n",
       "      <td>July</td>\n",
       "      <td>27</td>\n",
       "      <td>1</td>\n",
       "      <td>0</td>\n",
       "      <td>0</td>\n",
       "      <td>...</td>\n",
       "      <td>2015-07-01</td>\n",
       "      <td>2015-07-01</td>\n",
       "      <td>74.4</td>\n",
       "      <td>63.3</td>\n",
       "      <td>67.6</td>\n",
       "      <td>68.379723</td>\n",
       "      <td>0.1</td>\n",
       "      <td>14.4</td>\n",
       "      <td>83.56</td>\n",
       "      <td>Rain, Clear</td>\n",
       "    </tr>\n",
       "    <tr>\n",
       "      <td>2</td>\n",
       "      <td>2</td>\n",
       "      <td>Resort Hotel</td>\n",
       "      <td>0</td>\n",
       "      <td>7</td>\n",
       "      <td>2015</td>\n",
       "      <td>July</td>\n",
       "      <td>27</td>\n",
       "      <td>1</td>\n",
       "      <td>0</td>\n",
       "      <td>1</td>\n",
       "      <td>...</td>\n",
       "      <td>2015-07-02</td>\n",
       "      <td>2015-07-01</td>\n",
       "      <td>74.4</td>\n",
       "      <td>63.3</td>\n",
       "      <td>67.6</td>\n",
       "      <td>68.379723</td>\n",
       "      <td>0.1</td>\n",
       "      <td>14.4</td>\n",
       "      <td>83.56</td>\n",
       "      <td>Rain, Clear</td>\n",
       "    </tr>\n",
       "    <tr>\n",
       "      <td>3</td>\n",
       "      <td>3</td>\n",
       "      <td>Resort Hotel</td>\n",
       "      <td>0</td>\n",
       "      <td>13</td>\n",
       "      <td>2015</td>\n",
       "      <td>July</td>\n",
       "      <td>27</td>\n",
       "      <td>1</td>\n",
       "      <td>0</td>\n",
       "      <td>1</td>\n",
       "      <td>...</td>\n",
       "      <td>2015-07-02</td>\n",
       "      <td>2015-07-01</td>\n",
       "      <td>74.4</td>\n",
       "      <td>63.3</td>\n",
       "      <td>67.6</td>\n",
       "      <td>68.379723</td>\n",
       "      <td>0.1</td>\n",
       "      <td>14.4</td>\n",
       "      <td>83.56</td>\n",
       "      <td>Rain, Clear</td>\n",
       "    </tr>\n",
       "    <tr>\n",
       "      <td>4</td>\n",
       "      <td>4</td>\n",
       "      <td>Resort Hotel</td>\n",
       "      <td>0</td>\n",
       "      <td>14</td>\n",
       "      <td>2015</td>\n",
       "      <td>July</td>\n",
       "      <td>27</td>\n",
       "      <td>1</td>\n",
       "      <td>0</td>\n",
       "      <td>2</td>\n",
       "      <td>...</td>\n",
       "      <td>2015-07-03</td>\n",
       "      <td>2015-07-01</td>\n",
       "      <td>74.4</td>\n",
       "      <td>63.3</td>\n",
       "      <td>67.6</td>\n",
       "      <td>68.379723</td>\n",
       "      <td>0.1</td>\n",
       "      <td>14.4</td>\n",
       "      <td>83.56</td>\n",
       "      <td>Rain, Clear</td>\n",
       "    </tr>\n",
       "  </tbody>\n",
       "</table>\n",
       "<p>5 rows × 41 columns</p>\n",
       "</div>"
      ],
      "text/plain": [
       "   Unnamed: 0         hotel  is_canceled  lead_time  arrival_date_year  \\\n",
       "0           0  Resort Hotel            0        342               2015   \n",
       "1           1  Resort Hotel            0        737               2015   \n",
       "2           2  Resort Hotel            0          7               2015   \n",
       "3           3  Resort Hotel            0         13               2015   \n",
       "4           4  Resort Hotel            0         14               2015   \n",
       "\n",
       "  arrival_date_month  arrival_date_week_number  arrival_date_day_of_month  \\\n",
       "0               July                        27                          1   \n",
       "1               July                        27                          1   \n",
       "2               July                        27                          1   \n",
       "3               July                        27                          1   \n",
       "4               July                        27                          1   \n",
       "\n",
       "   stays_in_weekend_nights  stays_in_week_nights  ...  \\\n",
       "0                        0                     0  ...   \n",
       "1                        0                     0  ...   \n",
       "2                        0                     1  ...   \n",
       "3                        0                     1  ...   \n",
       "4                        0                     2  ...   \n",
       "\n",
       "   reservation_status_date  Date_time  Maximum_Temperature  \\\n",
       "0               2015-07-01 2015-07-01                 74.4   \n",
       "1               2015-07-01 2015-07-01                 74.4   \n",
       "2               2015-07-02 2015-07-01                 74.4   \n",
       "3               2015-07-02 2015-07-01                 74.4   \n",
       "4               2015-07-03 2015-07-01                 74.4   \n",
       "\n",
       "  Minimum _Temperature Average_Temperature Heat_Index Precipitation(inches)  \\\n",
       "0                 63.3                67.6  68.379723                   0.1   \n",
       "1                 63.3                67.6  68.379723                   0.1   \n",
       "2                 63.3                67.6  68.379723                   0.1   \n",
       "3                 63.3                67.6  68.379723                   0.1   \n",
       "4                 63.3                67.6  68.379723                   0.1   \n",
       "\n",
       "   Wind_Speed  Relative_Humidity   Conditions  \n",
       "0        14.4              83.56  Rain, Clear  \n",
       "1        14.4              83.56  Rain, Clear  \n",
       "2        14.4              83.56  Rain, Clear  \n",
       "3        14.4              83.56  Rain, Clear  \n",
       "4        14.4              83.56  Rain, Clear  \n",
       "\n",
       "[5 rows x 41 columns]"
      ]
     },
     "execution_count": 18,
     "metadata": {},
     "output_type": "execute_result"
    }
   ],
   "source": [
    "data.head()"
   ]
  },
  {
   "cell_type": "code",
   "execution_count": 19,
   "metadata": {},
   "outputs": [],
   "source": [
    "count_temp=c['Average_Temperature'].value_counts()"
   ]
  },
  {
   "cell_type": "code",
   "execution_count": 42,
   "metadata": {},
   "outputs": [],
   "source": [
    "temp=[]\n",
    "for i in count_temp.index:\n",
    "    temp.append(i[1])\n",
    "d['temperature']=temp"
   ]
  },
  {
   "cell_type": "code",
   "execution_count": 43,
   "metadata": {},
   "outputs": [],
   "source": [
    "cor_list=[]\n",
    "for i in range(10000):\n",
    "    sample1=np.random.choice(d['percent'],len(d['percent']))\n",
    "    sample2=np.random.choice(d['temperature'],len(d['temperature']))\n",
    "    cor=stats.pearsonr(sample1,sample2)\n",
    "    cor_list.append(cor)"
   ]
  },
  {
   "cell_type": "code",
   "execution_count": 44,
   "metadata": {},
   "outputs": [],
   "source": [
    "correlation=[]\n",
    "for i in cor_list:\n",
    "    correlation.append(i[0])"
   ]
  },
  {
   "cell_type": "code",
   "execution_count": 57,
   "metadata": {},
   "outputs": [
    {
     "data": {
      "text/plain": [
       "Text(0, 0.5, 'Average Temperature')"
      ]
     },
     "execution_count": 57,
     "metadata": {},
     "output_type": "execute_result"
    },
    {
     "data": {
      "image/png": "[encoded data removed]",
      "text/plain": [
       "<Figure size 432x288 with 1 Axes>"
      ]
     },
     "metadata": {
      "needs_background": "light"
     },
     "output_type": "display_data"
    }
   ],
   "source": [
    "sns.regplot(sample1,sample2)\n",
    "plt.xlabel('Cancelation Rate')\n",
    "plt.ylabel('Average Temperature')"
   ]
  },
  {
   "cell_type": "code",
   "execution_count": 35,
   "metadata": {},
   "outputs": [
    {
     "name": "stdout",
     "output_type": "stream",
     "text": [
      "Correlation of Average Temperature and Cancelation Rate 95% Confidence Interval:[-0.07093038  0.07070765]\n"
     ]
    }
   ],
   "source": [
    "print('Correlation of Average Temperature and Cancelation Rate 95% Confidence Interval:'\n",
    "      +str(np.percentile(correlation,[2.5,97.5])))"
   ]
  },
  {
   "cell_type": "markdown",
   "metadata": {},
   "source": [
    "It's inconclusive whether we can reject or accpet null hypothesis since the 95% CI contains negative and positive boundry. It could be negative correlated, postive correlated, or not correlated at all. "
   ]
  },
  {
   "cell_type": "markdown",
   "metadata": {},
   "source": [
    "<li> Q3: Is the correlation of cancelation rate vs wind speed positive or negative? </li>\n",
    "<li> Null Hypothesis: Person's correlation coefficient = 0 </li>\n",
    "<li> Alternative Hypothesis: Person's correlation coefficient != 0 </li>\n",
    "<li>critical value=0.05</li>"
   ]
  },
  {
   "cell_type": "code",
   "execution_count": 36,
   "metadata": {},
   "outputs": [],
   "source": [
    "count_wind=c['Wind_Speed'].value_counts()"
   ]
  },
  {
   "cell_type": "code",
   "execution_count": 46,
   "metadata": {},
   "outputs": [],
   "source": [
    "wind_speed=[]\n",
    "for i in count_wind.index:\n",
    "    wind_speed.append(i[1])\n",
    "d['wind_speed']=wind_speed"
   ]
  },
  {
   "cell_type": "code",
   "execution_count": 53,
   "metadata": {},
   "outputs": [],
   "source": [
    "cor_list2=[]\n",
    "for i in range(10000):\n",
    "    sample1=np.random.choice(d['percent'],len(d['percent']))\n",
    "    sample2=np.random.choice(d['wind_speed'],len(d['wind_speed']))\n",
    "    cor=stats.pearsonr(sample1,sample2)\n",
    "    cor_list2.append(cor)"
   ]
  },
  {
   "cell_type": "code",
   "execution_count": 54,
   "metadata": {},
   "outputs": [],
   "source": [
    "correlation2=[]\n",
    "for i in cor_list2:\n",
    "    correlation2.append(i[0])"
   ]
  },
  {
   "cell_type": "code",
   "execution_count": 55,
   "metadata": {
    "scrolled": false
   },
   "outputs": [
    {
     "name": "stdout",
     "output_type": "stream",
     "text": [
      "Correlation of Wind Speed and Cancelation Rate 95% Confidence Interval:[-0.06833989  0.06928068]\n",
      "p-value:0.5023495037016403\n"
     ]
    }
   ],
   "source": [
    "p=[]\n",
    "for i in cor_list2:\n",
    "    p.append(i[1])\n",
    "print('Correlation of Wind Speed and Cancelation Rate 95% Confidence Interval:'+\n",
    "      str(np.percentile(correlation2,[2.5,97.5])))\n",
    "print('p-value:'+str(np.mean(p)))"
   ]
  },
  {
   "cell_type": "code",
   "execution_count": 58,
   "metadata": {},
   "outputs": [
    {
     "data": {
      "text/plain": [
       "Text(0, 0.5, 'Wind Speed')"
      ]
     },
     "execution_count": 58,
     "metadata": {},
     "output_type": "execute_result"
    },
    {
     "data": {
      "image/png": "[encoded data removed]",
      "text/plain": [
       "<Figure size 432x288 with 1 Axes>"
      ]
     },
     "metadata": {
      "needs_background": "light"
     },
     "output_type": "display_data"
    }
   ],
   "source": [
    "sns.regplot(sample1,sample2)\n",
    "plt.xlabel('Cancelation Rate')\n",
    "plt.ylabel('Wind Speed')"
   ]
  },
  {
   "cell_type": "markdown",
   "metadata": {},
   "source": [
    "The 95% confidence interval contain negative and positive number. It's inconclusive for this test."
   ]
  },
  {
   "cell_type": "code",
   "execution_count": null,
   "metadata": {},
   "outputs": [],
   "source": []
  },
  {
   "cell_type": "code",
   "execution_count": null,
   "metadata": {},
   "outputs": [],
   "source": []
  },
  {
   "cell_type": "code",
   "execution_count": null,
   "metadata": {},
   "outputs": [],
   "source": []
  },
  {
   "cell_type": "code",
   "execution_count": null,
   "metadata": {},
   "outputs": [],
   "source": []
  },
  {
   "cell_type": "code",
   "execution_count": null,
   "metadata": {},
   "outputs": [],
   "source": []
  },
  {
   "cell_type": "code",
   "execution_count": null,
   "metadata": {},
   "outputs": [],
   "source": []
  }
 ],
 "metadata": {
  "kernelspec": {
   "display_name": "Python 3",
   "language": "python",
   "name": "python3"
  },
  "language_info": {
   "codemirror_mode": {
    "name": "ipython",
    "version": 3
   },
   "file_extension": ".py",
   "mimetype": "text/x-python",
   "name": "python",
   "nbconvert_exporter": "python",
   "pygments_lexer": "ipython3",
   "version": "3.7.4"
  }
 },
 "nbformat": 4,
 "nbformat_minor": 2
}
